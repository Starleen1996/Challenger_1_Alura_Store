{
  "nbformat": 4,
  "nbformat_minor": 0,
  "metadata": {
    "colab": {
      "provenance": [],
      "include_colab_link": true
    },
    "kernelspec": {
      "name": "python3",
      "display_name": "Python 3"
    },
    "language_info": {
      "name": "python"
    }
  },
  "cells": [
    {
      "cell_type": "markdown",
      "metadata": {
        "id": "view-in-github",
        "colab_type": "text"
      },
      "source": [
        "<a href=\"https://colab.research.google.com/github/Starleen1996/Challenger_1_Alura_Store/blob/main/AluraStoreLatam.ipynb\" target=\"_parent\"><img src=\"https://colab.research.google.com/assets/colab-badge.svg\" alt=\"Open In Colab\"/></a>"
      ]
    },
    {
      "cell_type": "markdown",
      "source": [
        "### Importación de datos\n",
        "\n"
      ],
      "metadata": {
        "id": "RhEdWd9YUR6H"
      }
    },
    {
      "cell_type": "code",
      "execution_count": 9,
      "metadata": {
        "colab": {
          "base_uri": "https://localhost:8080/",
          "height": 206
        },
        "id": "T3EvaeQ_INIL",
        "outputId": "70276127-52a8-434c-a5d5-663ac08e2430"
      },
      "outputs": [
        {
          "output_type": "execute_result",
          "data": {
            "text/plain": [
              "            Producto Categoría del Producto    Precio  Costo de envío  \\\n",
              "0  Asistente virtual           Electrónicos  164300.0          6900.0   \n",
              "1    Mesa de comedor                Muebles  192300.0          8400.0   \n",
              "2      Juego de mesa               Juguetes  209600.0         15900.0   \n",
              "3         Microondas      Electrodomésticos  757500.0         41000.0   \n",
              "4   Silla de oficina                Muebles  335200.0         20200.0   \n",
              "\n",
              "  Fecha de Compra         Vendedor Lugar de Compra  Calificación  \\\n",
              "0      16/01/2021      Pedro Gomez          Bogotá             4   \n",
              "1      18/05/2022  Beatriz Morales        Medellín             1   \n",
              "2      15/03/2021   Juan Fernandez       Cartagena             1   \n",
              "3      03/05/2022   Juan Fernandez            Cali             4   \n",
              "4      07/11/2020    Maria Alfonso        Medellín             5   \n",
              "\n",
              "       Método de pago  Cantidad de cuotas       lat       lon  \n",
              "0  Tarjeta de crédito                   8   4.60971 -74.08175  \n",
              "1  Tarjeta de crédito                   4   6.25184 -75.56359  \n",
              "2  Tarjeta de crédito                   1  10.39972 -75.51444  \n",
              "3               Nequi                   1   3.43722 -76.52250  \n",
              "4               Nequi                   1   6.25184 -75.56359  "
            ],
            "text/html": [
              "\n",
              "  <div id=\"df-eb6986c0-d6ff-493c-ae0c-1d2dacc743f5\" class=\"colab-df-container\">\n",
              "    <div>\n",
              "<style scoped>\n",
              "    .dataframe tbody tr th:only-of-type {\n",
              "        vertical-align: middle;\n",
              "    }\n",
              "\n",
              "    .dataframe tbody tr th {\n",
              "        vertical-align: top;\n",
              "    }\n",
              "\n",
              "    .dataframe thead th {\n",
              "        text-align: right;\n",
              "    }\n",
              "</style>\n",
              "<table border=\"1\" class=\"dataframe\">\n",
              "  <thead>\n",
              "    <tr style=\"text-align: right;\">\n",
              "      <th></th>\n",
              "      <th>Producto</th>\n",
              "      <th>Categoría del Producto</th>\n",
              "      <th>Precio</th>\n",
              "      <th>Costo de envío</th>\n",
              "      <th>Fecha de Compra</th>\n",
              "      <th>Vendedor</th>\n",
              "      <th>Lugar de Compra</th>\n",
              "      <th>Calificación</th>\n",
              "      <th>Método de pago</th>\n",
              "      <th>Cantidad de cuotas</th>\n",
              "      <th>lat</th>\n",
              "      <th>lon</th>\n",
              "    </tr>\n",
              "  </thead>\n",
              "  <tbody>\n",
              "    <tr>\n",
              "      <th>0</th>\n",
              "      <td>Asistente virtual</td>\n",
              "      <td>Electrónicos</td>\n",
              "      <td>164300.0</td>\n",
              "      <td>6900.0</td>\n",
              "      <td>16/01/2021</td>\n",
              "      <td>Pedro Gomez</td>\n",
              "      <td>Bogotá</td>\n",
              "      <td>4</td>\n",
              "      <td>Tarjeta de crédito</td>\n",
              "      <td>8</td>\n",
              "      <td>4.60971</td>\n",
              "      <td>-74.08175</td>\n",
              "    </tr>\n",
              "    <tr>\n",
              "      <th>1</th>\n",
              "      <td>Mesa de comedor</td>\n",
              "      <td>Muebles</td>\n",
              "      <td>192300.0</td>\n",
              "      <td>8400.0</td>\n",
              "      <td>18/05/2022</td>\n",
              "      <td>Beatriz Morales</td>\n",
              "      <td>Medellín</td>\n",
              "      <td>1</td>\n",
              "      <td>Tarjeta de crédito</td>\n",
              "      <td>4</td>\n",
              "      <td>6.25184</td>\n",
              "      <td>-75.56359</td>\n",
              "    </tr>\n",
              "    <tr>\n",
              "      <th>2</th>\n",
              "      <td>Juego de mesa</td>\n",
              "      <td>Juguetes</td>\n",
              "      <td>209600.0</td>\n",
              "      <td>15900.0</td>\n",
              "      <td>15/03/2021</td>\n",
              "      <td>Juan Fernandez</td>\n",
              "      <td>Cartagena</td>\n",
              "      <td>1</td>\n",
              "      <td>Tarjeta de crédito</td>\n",
              "      <td>1</td>\n",
              "      <td>10.39972</td>\n",
              "      <td>-75.51444</td>\n",
              "    </tr>\n",
              "    <tr>\n",
              "      <th>3</th>\n",
              "      <td>Microondas</td>\n",
              "      <td>Electrodomésticos</td>\n",
              "      <td>757500.0</td>\n",
              "      <td>41000.0</td>\n",
              "      <td>03/05/2022</td>\n",
              "      <td>Juan Fernandez</td>\n",
              "      <td>Cali</td>\n",
              "      <td>4</td>\n",
              "      <td>Nequi</td>\n",
              "      <td>1</td>\n",
              "      <td>3.43722</td>\n",
              "      <td>-76.52250</td>\n",
              "    </tr>\n",
              "    <tr>\n",
              "      <th>4</th>\n",
              "      <td>Silla de oficina</td>\n",
              "      <td>Muebles</td>\n",
              "      <td>335200.0</td>\n",
              "      <td>20200.0</td>\n",
              "      <td>07/11/2020</td>\n",
              "      <td>Maria Alfonso</td>\n",
              "      <td>Medellín</td>\n",
              "      <td>5</td>\n",
              "      <td>Nequi</td>\n",
              "      <td>1</td>\n",
              "      <td>6.25184</td>\n",
              "      <td>-75.56359</td>\n",
              "    </tr>\n",
              "  </tbody>\n",
              "</table>\n",
              "</div>\n",
              "    <div class=\"colab-df-buttons\">\n",
              "\n",
              "  <div class=\"colab-df-container\">\n",
              "    <button class=\"colab-df-convert\" onclick=\"convertToInteractive('df-eb6986c0-d6ff-493c-ae0c-1d2dacc743f5')\"\n",
              "            title=\"Convert this dataframe to an interactive table.\"\n",
              "            style=\"display:none;\">\n",
              "\n",
              "  <svg xmlns=\"http://www.w3.org/2000/svg\" height=\"24px\" viewBox=\"0 -960 960 960\">\n",
              "    <path d=\"M120-120v-720h720v720H120Zm60-500h600v-160H180v160Zm220 220h160v-160H400v160Zm0 220h160v-160H400v160ZM180-400h160v-160H180v160Zm440 0h160v-160H620v160ZM180-180h160v-160H180v160Zm440 0h160v-160H620v160Z\"/>\n",
              "  </svg>\n",
              "    </button>\n",
              "\n",
              "  <style>\n",
              "    .colab-df-container {\n",
              "      display:flex;\n",
              "      gap: 12px;\n",
              "    }\n",
              "\n",
              "    .colab-df-convert {\n",
              "      background-color: #E8F0FE;\n",
              "      border: none;\n",
              "      border-radius: 50%;\n",
              "      cursor: pointer;\n",
              "      display: none;\n",
              "      fill: #1967D2;\n",
              "      height: 32px;\n",
              "      padding: 0 0 0 0;\n",
              "      width: 32px;\n",
              "    }\n",
              "\n",
              "    .colab-df-convert:hover {\n",
              "      background-color: #E2EBFA;\n",
              "      box-shadow: 0px 1px 2px rgba(60, 64, 67, 0.3), 0px 1px 3px 1px rgba(60, 64, 67, 0.15);\n",
              "      fill: #174EA6;\n",
              "    }\n",
              "\n",
              "    .colab-df-buttons div {\n",
              "      margin-bottom: 4px;\n",
              "    }\n",
              "\n",
              "    [theme=dark] .colab-df-convert {\n",
              "      background-color: #3B4455;\n",
              "      fill: #D2E3FC;\n",
              "    }\n",
              "\n",
              "    [theme=dark] .colab-df-convert:hover {\n",
              "      background-color: #434B5C;\n",
              "      box-shadow: 0px 1px 3px 1px rgba(0, 0, 0, 0.15);\n",
              "      filter: drop-shadow(0px 1px 2px rgba(0, 0, 0, 0.3));\n",
              "      fill: #FFFFFF;\n",
              "    }\n",
              "  </style>\n",
              "\n",
              "    <script>\n",
              "      const buttonEl =\n",
              "        document.querySelector('#df-eb6986c0-d6ff-493c-ae0c-1d2dacc743f5 button.colab-df-convert');\n",
              "      buttonEl.style.display =\n",
              "        google.colab.kernel.accessAllowed ? 'block' : 'none';\n",
              "\n",
              "      async function convertToInteractive(key) {\n",
              "        const element = document.querySelector('#df-eb6986c0-d6ff-493c-ae0c-1d2dacc743f5');\n",
              "        const dataTable =\n",
              "          await google.colab.kernel.invokeFunction('convertToInteractive',\n",
              "                                                    [key], {});\n",
              "        if (!dataTable) return;\n",
              "\n",
              "        const docLinkHtml = 'Like what you see? Visit the ' +\n",
              "          '<a target=\"_blank\" href=https://colab.research.google.com/notebooks/data_table.ipynb>data table notebook</a>'\n",
              "          + ' to learn more about interactive tables.';\n",
              "        element.innerHTML = '';\n",
              "        dataTable['output_type'] = 'display_data';\n",
              "        await google.colab.output.renderOutput(dataTable, element);\n",
              "        const docLink = document.createElement('div');\n",
              "        docLink.innerHTML = docLinkHtml;\n",
              "        element.appendChild(docLink);\n",
              "      }\n",
              "    </script>\n",
              "  </div>\n",
              "\n",
              "\n",
              "    <div id=\"df-7ea560d1-b5a0-4149-90fd-9cd4dbf6e815\">\n",
              "      <button class=\"colab-df-quickchart\" onclick=\"quickchart('df-7ea560d1-b5a0-4149-90fd-9cd4dbf6e815')\"\n",
              "                title=\"Suggest charts\"\n",
              "                style=\"display:none;\">\n",
              "\n",
              "<svg xmlns=\"http://www.w3.org/2000/svg\" height=\"24px\"viewBox=\"0 0 24 24\"\n",
              "     width=\"24px\">\n",
              "    <g>\n",
              "        <path d=\"M19 3H5c-1.1 0-2 .9-2 2v14c0 1.1.9 2 2 2h14c1.1 0 2-.9 2-2V5c0-1.1-.9-2-2-2zM9 17H7v-7h2v7zm4 0h-2V7h2v10zm4 0h-2v-4h2v4z\"/>\n",
              "    </g>\n",
              "</svg>\n",
              "      </button>\n",
              "\n",
              "<style>\n",
              "  .colab-df-quickchart {\n",
              "      --bg-color: #E8F0FE;\n",
              "      --fill-color: #1967D2;\n",
              "      --hover-bg-color: #E2EBFA;\n",
              "      --hover-fill-color: #174EA6;\n",
              "      --disabled-fill-color: #AAA;\n",
              "      --disabled-bg-color: #DDD;\n",
              "  }\n",
              "\n",
              "  [theme=dark] .colab-df-quickchart {\n",
              "      --bg-color: #3B4455;\n",
              "      --fill-color: #D2E3FC;\n",
              "      --hover-bg-color: #434B5C;\n",
              "      --hover-fill-color: #FFFFFF;\n",
              "      --disabled-bg-color: #3B4455;\n",
              "      --disabled-fill-color: #666;\n",
              "  }\n",
              "\n",
              "  .colab-df-quickchart {\n",
              "    background-color: var(--bg-color);\n",
              "    border: none;\n",
              "    border-radius: 50%;\n",
              "    cursor: pointer;\n",
              "    display: none;\n",
              "    fill: var(--fill-color);\n",
              "    height: 32px;\n",
              "    padding: 0;\n",
              "    width: 32px;\n",
              "  }\n",
              "\n",
              "  .colab-df-quickchart:hover {\n",
              "    background-color: var(--hover-bg-color);\n",
              "    box-shadow: 0 1px 2px rgba(60, 64, 67, 0.3), 0 1px 3px 1px rgba(60, 64, 67, 0.15);\n",
              "    fill: var(--button-hover-fill-color);\n",
              "  }\n",
              "\n",
              "  .colab-df-quickchart-complete:disabled,\n",
              "  .colab-df-quickchart-complete:disabled:hover {\n",
              "    background-color: var(--disabled-bg-color);\n",
              "    fill: var(--disabled-fill-color);\n",
              "    box-shadow: none;\n",
              "  }\n",
              "\n",
              "  .colab-df-spinner {\n",
              "    border: 2px solid var(--fill-color);\n",
              "    border-color: transparent;\n",
              "    border-bottom-color: var(--fill-color);\n",
              "    animation:\n",
              "      spin 1s steps(1) infinite;\n",
              "  }\n",
              "\n",
              "  @keyframes spin {\n",
              "    0% {\n",
              "      border-color: transparent;\n",
              "      border-bottom-color: var(--fill-color);\n",
              "      border-left-color: var(--fill-color);\n",
              "    }\n",
              "    20% {\n",
              "      border-color: transparent;\n",
              "      border-left-color: var(--fill-color);\n",
              "      border-top-color: var(--fill-color);\n",
              "    }\n",
              "    30% {\n",
              "      border-color: transparent;\n",
              "      border-left-color: var(--fill-color);\n",
              "      border-top-color: var(--fill-color);\n",
              "      border-right-color: var(--fill-color);\n",
              "    }\n",
              "    40% {\n",
              "      border-color: transparent;\n",
              "      border-right-color: var(--fill-color);\n",
              "      border-top-color: var(--fill-color);\n",
              "    }\n",
              "    60% {\n",
              "      border-color: transparent;\n",
              "      border-right-color: var(--fill-color);\n",
              "    }\n",
              "    80% {\n",
              "      border-color: transparent;\n",
              "      border-right-color: var(--fill-color);\n",
              "      border-bottom-color: var(--fill-color);\n",
              "    }\n",
              "    90% {\n",
              "      border-color: transparent;\n",
              "      border-bottom-color: var(--fill-color);\n",
              "    }\n",
              "  }\n",
              "</style>\n",
              "\n",
              "      <script>\n",
              "        async function quickchart(key) {\n",
              "          const quickchartButtonEl =\n",
              "            document.querySelector('#' + key + ' button');\n",
              "          quickchartButtonEl.disabled = true;  // To prevent multiple clicks.\n",
              "          quickchartButtonEl.classList.add('colab-df-spinner');\n",
              "          try {\n",
              "            const charts = await google.colab.kernel.invokeFunction(\n",
              "                'suggestCharts', [key], {});\n",
              "          } catch (error) {\n",
              "            console.error('Error during call to suggestCharts:', error);\n",
              "          }\n",
              "          quickchartButtonEl.classList.remove('colab-df-spinner');\n",
              "          quickchartButtonEl.classList.add('colab-df-quickchart-complete');\n",
              "        }\n",
              "        (() => {\n",
              "          let quickchartButtonEl =\n",
              "            document.querySelector('#df-7ea560d1-b5a0-4149-90fd-9cd4dbf6e815 button');\n",
              "          quickchartButtonEl.style.display =\n",
              "            google.colab.kernel.accessAllowed ? 'block' : 'none';\n",
              "        })();\n",
              "      </script>\n",
              "    </div>\n",
              "\n",
              "    </div>\n",
              "  </div>\n"
            ],
            "application/vnd.google.colaboratory.intrinsic+json": {
              "type": "dataframe",
              "variable_name": "tienda",
              "summary": "{\n  \"name\": \"tienda\",\n  \"rows\": 2359,\n  \"fields\": [\n    {\n      \"column\": \"Producto\",\n      \"properties\": {\n        \"dtype\": \"category\",\n        \"num_unique_values\": 51,\n        \"samples\": [\n          \"Guitarra ac\\u00fastica\",\n          \"Bal\\u00f3n de baloncesto\",\n          \"Smartwatch\"\n        ],\n        \"semantic_type\": \"\",\n        \"description\": \"\"\n      }\n    },\n    {\n      \"column\": \"Categor\\u00eda del Producto\",\n      \"properties\": {\n        \"dtype\": \"category\",\n        \"num_unique_values\": 8,\n        \"samples\": [\n          \"Muebles\",\n          \"Deportes y diversi\\u00f3n\",\n          \"Electr\\u00f3nicos\"\n        ],\n        \"semantic_type\": \"\",\n        \"description\": \"\"\n      }\n    },\n    {\n      \"column\": \"Precio\",\n      \"properties\": {\n        \"dtype\": \"number\",\n        \"std\": 614686.7653873172,\n        \"min\": 7600.0,\n        \"max\": 2977000.0,\n        \"num_unique_values\": 1937,\n        \"samples\": [\n          2499400.0,\n          14800.0,\n          80500.0\n        ],\n        \"semantic_type\": \"\",\n        \"description\": \"\"\n      }\n    },\n    {\n      \"column\": \"Costo de env\\u00edo\",\n      \"properties\": {\n        \"dtype\": \"number\",\n        \"std\": 32860.0017825605,\n        \"min\": 0.0,\n        \"max\": 160800.0,\n        \"num_unique_values\": 753,\n        \"samples\": [\n          117800.0,\n          54700.0,\n          45600.0\n        ],\n        \"semantic_type\": \"\",\n        \"description\": \"\"\n      }\n    },\n    {\n      \"column\": \"Fecha de Compra\",\n      \"properties\": {\n        \"dtype\": \"object\",\n        \"num_unique_values\": 1018,\n        \"samples\": [\n          \"15/09/2022\",\n          \"03/06/2020\",\n          \"06/11/2021\"\n        ],\n        \"semantic_type\": \"\",\n        \"description\": \"\"\n      }\n    },\n    {\n      \"column\": \"Vendedor\",\n      \"properties\": {\n        \"dtype\": \"category\",\n        \"num_unique_values\": 14,\n        \"samples\": [\n          \"Juliana Costa\",\n          \"Mariana Herrera\",\n          \"Pedro Gomez\"\n        ],\n        \"semantic_type\": \"\",\n        \"description\": \"\"\n      }\n    },\n    {\n      \"column\": \"Lugar de Compra\",\n      \"properties\": {\n        \"dtype\": \"category\",\n        \"num_unique_values\": 19,\n        \"samples\": [\n          \"Bogot\\u00e1\",\n          \"Pereira\",\n          \"Neiva\"\n        ],\n        \"semantic_type\": \"\",\n        \"description\": \"\"\n      }\n    },\n    {\n      \"column\": \"Calificaci\\u00f3n\",\n      \"properties\": {\n        \"dtype\": \"number\",\n        \"std\": 1,\n        \"min\": 1,\n        \"max\": 5,\n        \"num_unique_values\": 5,\n        \"samples\": [\n          1,\n          2,\n          5\n        ],\n        \"semantic_type\": \"\",\n        \"description\": \"\"\n      }\n    },\n    {\n      \"column\": \"M\\u00e9todo de pago\",\n      \"properties\": {\n        \"dtype\": \"category\",\n        \"num_unique_values\": 4,\n        \"samples\": [\n          \"Nequi\",\n          \"Tarjeta de d\\u00e9bito\",\n          \"Tarjeta de cr\\u00e9dito\"\n        ],\n        \"semantic_type\": \"\",\n        \"description\": \"\"\n      }\n    },\n    {\n      \"column\": \"Cantidad de cuotas\",\n      \"properties\": {\n        \"dtype\": \"number\",\n        \"std\": 2,\n        \"min\": 1,\n        \"max\": 24,\n        \"num_unique_values\": 15,\n        \"samples\": [\n          7,\n          14,\n          8\n        ],\n        \"semantic_type\": \"\",\n        \"description\": \"\"\n      }\n    },\n    {\n      \"column\": \"lat\",\n      \"properties\": {\n        \"dtype\": \"number\",\n        \"std\": 2.2874452492678627,\n        \"min\": -4.21528,\n        \"max\": 11.54444,\n        \"num_unique_values\": 19,\n        \"samples\": [\n          4.60971,\n          4.81333,\n          2.9273\n        ],\n        \"semantic_type\": \"\",\n        \"description\": \"\"\n      }\n    },\n    {\n      \"column\": \"lon\",\n      \"properties\": {\n        \"dtype\": \"number\",\n        \"std\": 1.2178272727088486,\n        \"min\": -77.28111,\n        \"max\": -67.9239,\n        \"num_unique_values\": 19,\n        \"samples\": [\n          -74.08175,\n          -75.69611,\n          -75.28189\n        ],\n        \"semantic_type\": \"\",\n        \"description\": \"\"\n      }\n    }\n  ]\n}"
            }
          },
          "metadata": {},
          "execution_count": 9
        }
      ],
      "source": [
        "import pandas as pd\n",
        "\n",
        "url = \"https://raw.githubusercontent.com/alura-es-cursos/challenge1-data-science-latam/refs/heads/main/base-de-datos-challenge1-latam/tienda_1%20.csv\"\n",
        "url2 = \"https://raw.githubusercontent.com/alura-es-cursos/challenge1-data-science-latam/refs/heads/main/base-de-datos-challenge1-latam/tienda_2.csv\"\n",
        "url3 = \"https://raw.githubusercontent.com/alura-es-cursos/challenge1-data-science-latam/refs/heads/main/base-de-datos-challenge1-latam/tienda_3.csv\"\n",
        "url4 = \"https://raw.githubusercontent.com/alura-es-cursos/challenge1-data-science-latam/refs/heads/main/base-de-datos-challenge1-latam/tienda_4.csv\"\n",
        "\n",
        "tienda = pd.read_csv(url)\n",
        "tienda2 = pd.read_csv(url2)\n",
        "tienda3 = pd.read_csv(url3)\n",
        "tienda4 = pd.read_csv(url4)\n",
        "\n",
        "tienda.head()"
      ]
    },
    {
      "cell_type": "markdown",
      "source": [
        "#1. Análisis de facturación\n"
      ],
      "metadata": {
        "id": "X62IW3KFUIYm"
      }
    },
    {
      "cell_type": "markdown",
      "source": [
        "1- Crear dos listas, una que contiene las cuatro tiendas y otra que contiene la\n",
        "suma de los ingresos de cada tienda en la columna \"Precio\"\n",
        "\n",
        "2- Crear un bucle for creando una para cada tienda en la cual se almacena los valores de los ingresos resultados de las ventas y una variable con la suma de ingresos de cada tienda\n",
        "\n",
        "3- Imprimir los valores de la suma de los ingresos de cada tienda a partir de la lista creada en el paso 1"
      ],
      "metadata": {
        "id": "51TJo5S-CY6q"
      }
    },
    {
      "cell_type": "code",
      "source": [
        "# En este primer análisis, debes calcular el ingreso total de cada tienda. Sumando los valores de la columna Precio de cada conjunto de datos de la tienda para estimar los ingresos.\n",
        "\n",
        "tiendas = [tienda,tienda2,tienda3,tienda4]  # Lista de las tiendas\n",
        "sumas_precios = [] #Lista para almacenar las sumas de cada tienda\n",
        "\n",
        "\n",
        "for tienda in tiendas:\n",
        "    precios = tienda[\"Precio\"].tolist()\n",
        "    suma = sum(precios)\n",
        "    sumas_precios.append(suma)\n",
        "\n",
        "print(f'Ingreso total: Tienda${sumas_precios[0]:,}, Tienda2 ${sumas_precios[1]:,}, Tienda3 ${sumas_precios[2]:,}, Tienda4 ${sumas_precios[3]:,}')\n"
      ],
      "metadata": {
        "colab": {
          "base_uri": "https://localhost:8080/"
        },
        "id": "PgNzSmYDV16h",
        "outputId": "c506c68a-7357-41bb-b84d-053f9e29d753"
      },
      "execution_count": 10,
      "outputs": [
        {
          "output_type": "stream",
          "name": "stdout",
          "text": [
            "Ingreso total: Tienda$1,150,880,400.0, Tienda2 $1,116,343,500.0, Tienda3 $1,098,019,600.0, Tienda4 $1,038,375,700.0\n"
          ]
        }
      ]
    },
    {
      "cell_type": "markdown",
      "source": [
        "#GRAFICAMOS EL RESULTADO DE LA FACTURACIÓN"
      ],
      "metadata": {
        "id": "oR5MR_UWG5nf"
      }
    },
    {
      "cell_type": "markdown",
      "source": [
        "## 1: Define los valores correctamente"
      ],
      "metadata": {
        "id": "i0TSUOW6HiDW"
      }
    },
    {
      "cell_type": "code",
      "source": [
        "import matplotlib.pyplot as plt\n",
        "\n",
        "# Nombres de las tiendas (puedes ajustarlos si lo prefieres)\n",
        "nombres_tiendas = ['Tienda1', 'Tienda2', 'Tienda3', 'Tienda4']\n",
        "\n",
        "# Ingresos como números (sin comas, sin símbolo $)\n",
        "sumas_precios = [1150880400.0, 1116343500.0, 1098019600.0, 1038375700.0]"
      ],
      "metadata": {
        "id": "xykobSftV64I"
      },
      "execution_count": 11,
      "outputs": []
    },
    {
      "cell_type": "markdown",
      "source": [
        "## 2 Graficamos la facturación correspondiente a la columna precio por tienda"
      ],
      "metadata": {
        "id": "BXk5zt5SHxLe"
      }
    },
    {
      "cell_type": "code",
      "source": [
        "plt.figure(figsize=(10, 6))\n",
        "plt.bar(nombres_tiendas, sumas_precios, color='yellow')\n",
        "\n",
        "# Añadir títulos y etiquetas\n",
        "plt.title('Ingresos Totales por Tienda', fontsize=14)\n",
        "plt.xlabel('Tiendas', fontsize=12)\n",
        "plt.ylabel('Ingresos ($)', fontsize=12)\n",
        "plt.grid(axis='y', linestyle='--', alpha=0.6)\n",
        "\n",
        "# Mostrar los valores sobre cada barra\n",
        "for i, valor in enumerate(sumas_precios):\n",
        "    plt.text(i, valor + 1e7, f\"${valor:,.0f}\", ha='center', va='bottom', fontsize=10)\n",
        "\n",
        "plt.tight_layout()\n",
        "plt.show()"
      ],
      "metadata": {
        "id": "KDyr8E71V3m-",
        "colab": {
          "base_uri": "https://localhost:8080/",
          "height": 607
        },
        "outputId": "366b5b07-8de1-4af1-c470-7fd44bbe5b0e"
      },
      "execution_count": 14,
      "outputs": [
        {
          "output_type": "display_data",
          "data": {
            "text/plain": [
              "<Figure size 1000x600 with 1 Axes>"
            ],
            "image/png": "[encoded data removed]"
          },
          "metadata": {}
        }
      ]
    },
    {
      "cell_type": "markdown",
      "source": [
        "# 2. Ventas por categoría"
      ],
      "metadata": {
        "id": "2V_vcAPzWZmR"
      }
    },
    {
      "cell_type": "markdown",
      "source": [
        "### En este debes calcular la cantidad de productos vendidos por categoría en cada tienda. La idea es agrupar los datos por categoría y contar el número de ventas de cada tipo, mostrando las categorías más populares de cada tienda."
      ],
      "metadata": {
        "id": "8t66J9kyIuU6"
      }
    },
    {
      "cell_type": "code",
      "source": [
        "#En este debes calcular la cantidad de productos vendidos por categoría en cada tienda.\n",
        "#La idea es agrupar los datos por categoría y contar el número de ventas de cada tipo, mostrando las categorías más populares de cada tienda.\n",
        "\n",
        "def calcular_datos_producto(tienda):\n",
        "    \"\"\"\n",
        "    Calcula el total de elementos y el precio total por categoría de producto para una tienda.\n",
        "\n",
        "    Args:\n",
        "        tienda (pd.DataFrame): DataFrame de la tienda.\n",
        "\n",
        "    Returns:\n",
        "        dict: Un diccionario donde las claves son las categorías de productos y los valores\n",
        "              son tuplas con el total de elementos y el precio total.\n",
        "    \"\"\"\n",
        "    # Agrupa los datos por 'Categoria del Producto' y calcula el tamaño de cada grupo y la suma del precio.\n",
        "    grupo_categoria = tienda.groupby('Categoría del Producto').agg(\n",
        "        total_elementos=('Categoría del Producto', 'size'),\n",
        "        precio_total=('Precio', 'sum')\n",
        "    )\n",
        "\n",
        "    # Convierte el resultado a un diccionario de Python para facilitar el acceso.\n",
        "    diccionario_resultado = grupo_categoria.to_dict(orient='index')\n",
        "\n",
        "    # Convierte los valores del diccionario a tuplas\n",
        "    for key, value in diccionario_resultado.items():\n",
        "        diccionario_resultado[key] = (value['total_elementos'], value['precio_total'])\n",
        "\n",
        "    return diccionario_resultado\n",
        "\n",
        "# Calcula los datos para cada tienda\n",
        "tienda1_datos = calcular_datos_producto(tienda)\n",
        "tienda2_datos = calcular_datos_producto(tienda2)\n",
        "tienda3_datos = calcular_datos_producto(tienda3)\n",
        "tienda4_datos = calcular_datos_producto(tienda4)\n",
        "\n",
        "# Imprime los resultados de forma legible\n",
        "print(\"Datos de la Tienda 1:\")\n",
        "for categoria, (total_elementos, precio_total) in tienda1_datos.items():\n",
        "    print(f\"  Categoría: {categoria}, Total de Elementos: {total_elementos}, Precio Total: ${precio_total:,.0f}\")\n",
        "\n",
        "print(\"\\nDatos de la Tienda 2:\")\n",
        "for categoria, (total_elementos, precio_total) in tienda2_datos.items():\n",
        "    print(f\"  Categoría: {categoria}, Total de Elementos: {total_elementos}, Precio Total: ${precio_total:,.0f}\")\n",
        "\n",
        "print(\"\\nDatos de la Tienda 3:\")\n",
        "for categoria, (total_elementos, precio_total) in tienda3_datos.items():\n",
        "    print(f\"  Categoría: {categoria}, Total de Elementos: {total_elementos}, Precio Total: ${precio_total:,.0f}\")\n",
        "\n",
        "print(\"\\nDatos de la Tienda 4:\")\n",
        "for categoria, (total_elementos, precio_total) in tienda4_datos.items():\n",
        "    print(f\"  Categoría: {categoria}, Total de Elementos: {total_elementos}, Precio Total: ${precio_total:,.0f}\")"
      ],
      "metadata": {
        "id": "A34YupIuYhfF",
        "colab": {
          "base_uri": "https://localhost:8080/"
        },
        "outputId": "0cce60b3-25cb-41b6-f18e-f8c7cd63a665"
      },
      "execution_count": 19,
      "outputs": [
        {
          "output_type": "stream",
          "name": "stdout",
          "text": [
            "Datos de la Tienda 1:\n",
            "  Categoría: Artículos para el hogar, Total de Elementos: 201, Precio Total: $15,074,500\n",
            "  Categoría: Deportes y diversión, Total de Elementos: 277, Precio Total: $33,350,100\n",
            "  Categoría: Electrodomésticos, Total de Elementos: 254, Precio Total: $283,260,200\n",
            "  Categoría: Electrónicos, Total de Elementos: 451, Precio Total: $409,476,100\n",
            "  Categoría: Instrumentos musicales, Total de Elementos: 170, Precio Total: $75,102,400\n",
            "  Categoría: Juguetes, Total de Elementos: 338, Precio Total: $20,262,200\n",
            "  Categoría: Libros, Total de Elementos: 187, Precio Total: $9,321,300\n",
            "  Categoría: Muebles, Total de Elementos: 480, Precio Total: $192,528,900\n",
            "\n",
            "Datos de la Tienda 2:\n",
            "  Categoría: Artículos para el hogar, Total de Elementos: 181, Precio Total: $14,746,900\n",
            "  Categoría: Deportes y diversión, Total de Elementos: 275, Precio Total: $34,744,500\n",
            "  Categoría: Electrodomésticos, Total de Elementos: 305, Precio Total: $348,567,800\n",
            "  Categoría: Electrónicos, Total de Elementos: 422, Precio Total: $410,831,100\n",
            "  Categoría: Instrumentos musicales, Total de Elementos: 224, Precio Total: $104,990,300\n",
            "  Categoría: Juguetes, Total de Elementos: 313, Precio Total: $15,945,400\n",
            "  Categoría: Libros, Total de Elementos: 197, Precio Total: $10,091,200\n",
            "  Categoría: Muebles, Total de Elementos: 442, Precio Total: $176,426,300\n",
            "\n",
            "Datos de la Tienda 3:\n",
            "  Categoría: Artículos para el hogar, Total de Elementos: 177, Precio Total: $15,060,000\n",
            "  Categoría: Deportes y diversión, Total de Elementos: 277, Precio Total: $35,593,100\n",
            "  Categoría: Electrodomésticos, Total de Elementos: 278, Precio Total: $329,237,900\n",
            "  Categoría: Electrónicos, Total de Elementos: 451, Precio Total: $410,775,800\n",
            "  Categoría: Instrumentos musicales, Total de Elementos: 177, Precio Total: $77,380,900\n",
            "  Categoría: Juguetes, Total de Elementos: 315, Precio Total: $19,401,100\n",
            "  Categoría: Libros, Total de Elementos: 185, Precio Total: $9,498,700\n",
            "  Categoría: Muebles, Total de Elementos: 499, Precio Total: $201,072,100\n",
            "\n",
            "Datos de la Tienda 4:\n",
            "  Categoría: Artículos para el hogar, Total de Elementos: 201, Precio Total: $15,074,500\n",
            "  Categoría: Deportes y diversión, Total de Elementos: 277, Precio Total: $33,350,100\n",
            "  Categoría: Electrodomésticos, Total de Elementos: 254, Precio Total: $283,260,200\n",
            "  Categoría: Electrónicos, Total de Elementos: 451, Precio Total: $409,476,100\n",
            "  Categoría: Instrumentos musicales, Total de Elementos: 170, Precio Total: $75,102,400\n",
            "  Categoría: Juguetes, Total de Elementos: 338, Precio Total: $20,262,200\n",
            "  Categoría: Libros, Total de Elementos: 187, Precio Total: $9,321,300\n",
            "  Categoría: Muebles, Total de Elementos: 480, Precio Total: $192,528,900\n"
          ]
        }
      ]
    },
    {
      "cell_type": "markdown",
      "source": [
        "# 3. Calificación promedio de la tienda\n"
      ],
      "metadata": {
        "id": "Rq6tU_xSY3jk"
      }
    },
    {
      "cell_type": "markdown",
      "source": [
        "## En este paso, debes calcular las calificaciones promedio de los clientes para cada tienda. El objetivo es conocer la satisfacción del cliente con los productos vendidos."
      ],
      "metadata": {
        "id": "pQuS_VaFOKBI"
      }
    },
    {
      "cell_type": "code",
      "source": [
        "# Con este código se obtiene la satisfacción del cliente por producto vendido en cada tienda"
      ],
      "metadata": {
        "id": "bh3jjjJwY5MU"
      },
      "execution_count": null,
      "outputs": []
    },
    {
      "cell_type": "code",
      "source": [
        "def calcular_calificacion_producto(tienda):\n",
        "    \"\"\"\n",
        "    Calcula el total de elementos, la suma de calificaciones y la calificación media por categoría de producto para una tienda.\n",
        "\n",
        "    Args:\n",
        "        tienda (pd.DataFrame): DataFrame de la tienda.\n",
        "\n",
        "    Returns:\n",
        "        dict: Un diccionario donde las claves son las categorías de productos y los valores\n",
        "              son tuplas con el total de elementos, la suma de calificaciones y la calificación media.\n",
        "              Ejemplo: {'Categoría A': (120, 450.5, 3.75), 'Categoría B': (85, 320.0, 3.76)}\n",
        "    \"\"\"\n",
        "    # Agrupa los datos por 'Categoría del Producto' y calcula el tamaño de cada grupo, la suma de las calificaciones y la media de las calificaciones.\n",
        "    grupo_categoria = tienda.groupby('Categoría del Producto').agg(\n",
        "        total_elementos=('Categoría del Producto', 'size'),\n",
        "        suma_calificaciones=('Calificación', 'sum'),\n",
        "        calificacion_media=('Calificación', 'mean')  # Agregamos el cálculo de la calificación media\n",
        "    )\n",
        "\n",
        "    # Convierte el resultado a un diccionario de Python para facilitar el acceso.\n",
        "    diccionario_resultado = grupo_categoria.to_dict(orient='index')\n",
        "\n",
        "    # Convierte los valores del diccionario a tuplas (total_elementos, suma_calificaciones, calificacion_media)\n",
        "    for key, value in diccionario_resultado.items():\n",
        "        diccionario_resultado[key] = (value['total_elementos'], value['suma_calificaciones'], value['calificacion_media'])\n",
        "\n",
        "    return diccionario_resultado\n",
        "\n",
        "\n",
        "\n",
        "# Calcula y muestra el resultado para cada tienda\n",
        "resultados = {\n",
        "    \"Tienda \": calcular_calificacion_producto(tienda),\n",
        "    \"Tienda 2\": calcular_calificacion_producto(tienda2),\n",
        "    \"Tienda 3\": calcular_calificacion_producto(tienda3),\n",
        "    \"Tienda 4\": calcular_calificacion_producto(tienda4)\n",
        "}\n",
        "\n",
        "# Imprime los resultados\n",
        "for nombre_tienda, resultado in resultados.items():\n",
        "    print(f\"\\n{nombre_tienda}:\")\n",
        "    for categoria, (total_elementos, suma_calificaciones, calificacion_media) in resultado.items():\n",
        "        print(f\"  {categoria}: Total de elementos = {total_elementos}, Suma de calificaciones = {suma_calificaciones:.2f}, Calificación media = {calificacion_media:.2f}\")\n"
      ],
      "metadata": {
        "id": "I0KkjPoTY88F",
        "colab": {
          "base_uri": "https://localhost:8080/"
        },
        "outputId": "1e501a39-ab36-4281-e6b2-54a6fdb89ae0"
      },
      "execution_count": 22,
      "outputs": [
        {
          "output_type": "stream",
          "name": "stdout",
          "text": [
            "\n",
            "Tienda :\n",
            "  Artículos para el hogar: Total de elementos = 201, Suma de calificaciones = 806.00, Calificación media = 4.01\n",
            "  Deportes y diversión: Total de elementos = 277, Suma de calificaciones = 1123.00, Calificación media = 4.05\n",
            "  Electrodomésticos: Total de elementos = 254, Suma de calificaciones = 998.00, Calificación media = 3.93\n",
            "  Electrónicos: Total de elementos = 451, Suma de calificaciones = 1807.00, Calificación media = 4.01\n",
            "  Instrumentos musicales: Total de elementos = 170, Suma de calificaciones = 665.00, Calificación media = 3.91\n",
            "  Juguetes: Total de elementos = 338, Suma de calificaciones = 1348.00, Calificación media = 3.99\n",
            "  Libros: Total de elementos = 187, Suma de calificaciones = 756.00, Calificación media = 4.04\n",
            "  Muebles: Total de elementos = 480, Suma de calificaciones = 1919.00, Calificación media = 4.00\n",
            "\n",
            "Tienda 2:\n",
            "  Artículos para el hogar: Total de elementos = 181, Suma de calificaciones = 737.00, Calificación media = 4.07\n",
            "  Deportes y diversión: Total de elementos = 275, Suma de calificaciones = 1118.00, Calificación media = 4.07\n",
            "  Electrodomésticos: Total de elementos = 305, Suma de calificaciones = 1242.00, Calificación media = 4.07\n",
            "  Electrónicos: Total de elementos = 422, Suma de calificaciones = 1676.00, Calificación media = 3.97\n",
            "  Instrumentos musicales: Total de elementos = 224, Suma de calificaciones = 904.00, Calificación media = 4.04\n",
            "  Juguetes: Total de elementos = 313, Suma de calificaciones = 1260.00, Calificación media = 4.03\n",
            "  Libros: Total de elementos = 197, Suma de calificaciones = 778.00, Calificación media = 3.95\n",
            "  Muebles: Total de elementos = 442, Suma de calificaciones = 1809.00, Calificación media = 4.09\n",
            "\n",
            "Tienda 3:\n",
            "  Artículos para el hogar: Total de elementos = 177, Suma de calificaciones = 721.00, Calificación media = 4.07\n",
            "  Deportes y diversión: Total de elementos = 277, Suma de calificaciones = 1091.00, Calificación media = 3.94\n",
            "  Electrodomésticos: Total de elementos = 278, Suma de calificaciones = 1115.00, Calificación media = 4.01\n",
            "  Electrónicos: Total de elementos = 451, Suma de calificaciones = 1798.00, Calificación media = 3.99\n",
            "  Instrumentos musicales: Total de elementos = 177, Suma de calificaciones = 709.00, Calificación media = 4.01\n",
            "  Juguetes: Total de elementos = 315, Suma de calificaciones = 1322.00, Calificación media = 4.20\n",
            "  Libros: Total de elementos = 185, Suma de calificaciones = 749.00, Calificación media = 4.05\n",
            "  Muebles: Total de elementos = 499, Suma de calificaciones = 2045.00, Calificación media = 4.10\n",
            "\n",
            "Tienda 4:\n",
            "  Artículos para el hogar: Total de elementos = 201, Suma de calificaciones = 806.00, Calificación media = 4.01\n",
            "  Deportes y diversión: Total de elementos = 277, Suma de calificaciones = 1123.00, Calificación media = 4.05\n",
            "  Electrodomésticos: Total de elementos = 254, Suma de calificaciones = 998.00, Calificación media = 3.93\n",
            "  Electrónicos: Total de elementos = 451, Suma de calificaciones = 1807.00, Calificación media = 4.01\n",
            "  Instrumentos musicales: Total de elementos = 170, Suma de calificaciones = 665.00, Calificación media = 3.91\n",
            "  Juguetes: Total de elementos = 338, Suma de calificaciones = 1348.00, Calificación media = 3.99\n",
            "  Libros: Total de elementos = 187, Suma de calificaciones = 756.00, Calificación media = 4.04\n",
            "  Muebles: Total de elementos = 480, Suma de calificaciones = 1919.00, Calificación media = 4.00\n"
          ]
        }
      ]
    },
    {
      "cell_type": "markdown",
      "source": [
        "## Graficamos los resultados de los promedio de calificaciones de cada tienda"
      ],
      "metadata": {
        "id": "NzkLThVyRP5a"
      }
    },
    {
      "cell_type": "code",
      "source": [
        "import matplotlib.pyplot as plt\n",
        "\n",
        "# Diccionario donde se guardarán los promedios de calificación por tienda\n",
        "promedios_por_tienda = {}\n",
        "\n",
        "# Recorremos los resultados y calculamos el promedio de calificaciones por tienda\n",
        "for nombre_tienda, resultado in resultados.items():\n",
        "    # Extrae solo las calificaciones medias\n",
        "    calificaciones = [datos[2] for datos in resultado.values()]\n",
        "    # Calcula el promedio general de la tienda\n",
        "    promedio = sum(calificaciones) / len(calificaciones) if calificaciones else 0\n",
        "    promedios_por_tienda[nombre_tienda] = promedio"
      ],
      "metadata": {
        "id": "RNkTr9WYRPkS"
      },
      "execution_count": 23,
      "outputs": []
    },
    {
      "cell_type": "code",
      "source": [
        "# Extraer nombres de tiendas y promedios\n",
        "nombres_tiendas = list(promedios_por_tienda.keys())\n",
        "valores_promedios = list(promedios_por_tienda.values())\n",
        "\n",
        "# Crear gráfico de barras\n",
        "plt.figure(figsize=(8, 5))\n",
        "plt.bar(nombres_tiendas, valores_promedios, color='green', edgecolor='black')\n",
        "\n",
        "# Añadir títulos y etiquetas\n",
        "plt.title(\"Promedio de calificaciones por tienda\")\n",
        "plt.xlabel(\"Tienda\")\n",
        "plt.ylabel(\"Calificación promedio\")\n",
        "plt.ylim(0, 5)  # Asumimos escala de calificación de 0 a 5\n",
        "\n",
        "# Mostrar el valor encima de cada barra\n",
        "for i, valor in enumerate(valores_promedios):\n",
        "    plt.text(i, valor + 0.05, f\"{valor:.2f}\", ha='center')\n",
        "\n",
        "# Mostrar gráfico\n",
        "plt.tight_layout()\n",
        "plt.show()"
      ],
      "metadata": {
        "colab": {
          "base_uri": "https://localhost:8080/",
          "height": 507
        },
        "id": "BgqlptVmRbYg",
        "outputId": "936666da-c07a-4211-9d99-d34106b8e40f"
      },
      "execution_count": 25,
      "outputs": [
        {
          "output_type": "display_data",
          "data": {
            "text/plain": [
              "<Figure size 800x500 with 1 Axes>"
            ],
            "image/png": "[encoded data removed]"
          },
          "metadata": {}
        }
      ]
    },
    {
      "cell_type": "markdown",
      "source": [
        "# 4. Productos más y menos vendidos"
      ],
      "metadata": {
        "id": "DmNp1KPBZCm-"
      }
    },
    {
      "cell_type": "code",
      "source": [],
      "metadata": {
        "id": "qoyjqijQZHfF"
      },
      "execution_count": null,
      "outputs": []
    },
    {
      "cell_type": "code",
      "source": [],
      "metadata": {
        "id": "0Sw3sd4IZIGW"
      },
      "execution_count": null,
      "outputs": []
    },
    {
      "cell_type": "markdown",
      "source": [
        "# 5. Envío promedio por tienda"
      ],
      "metadata": {
        "id": "Fl0cGi3bZKqU"
      }
    },
    {
      "cell_type": "code",
      "source": [],
      "metadata": {
        "id": "S2JeaCykZNy9"
      },
      "execution_count": null,
      "outputs": []
    },
    {
      "cell_type": "code",
      "source": [],
      "metadata": {
        "id": "0tSdCie9ZQlt"
      },
      "execution_count": null,
      "outputs": []
    }
  ]
}